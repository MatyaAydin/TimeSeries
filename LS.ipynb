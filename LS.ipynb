{
 "cells": [
  {
   "cell_type": "code",
   "execution_count": 1,
   "metadata": {},
   "outputs": [],
   "source": [
    "\n",
    "import numpy as np\n",
    "import matplotlib.pyplot as plt\n",
    "import seaborn as sns\n",
    "sns.set_theme()"
   ]
  },
  {
   "cell_type": "code",
   "execution_count": null,
   "metadata": {},
   "outputs": [
    {
     "name": "stdout",
     "output_type": "stream",
     "text": [
      "mean of sample_a: -0.040467175218181814\n",
      "forward of sample_a:\n",
      "phi_hat_F of sample_a: [ 0.62860794 -0.20503962]\n",
      "mse of sample_a: 0.9182029272998684\n",
      "backward of sample_a:\n",
      "phi_hat_B of sample_a: [ 0.63304298 -0.20697025]\n",
      "mse of sample_a: 0.9268485983403247\n",
      "forward-backward of sample_a:\n",
      "phi_FB_hat of sample_a: [ 0.63082786 -0.20600554]\n",
      "mse of sample_a: 0.9225305841189233 \n",
      "\n",
      "mean of sample_b: 0.7320221628090909\n",
      "forward of sample_b:\n",
      "phi_hat_F of sample_b: [ 0.37684123 -0.20051844]\n",
      "mse of sample_b: 13.13342591352636\n",
      "backward of sample_b:\n",
      "phi_hat_B of sample_b: [ 0.37800071 -0.19802223]\n",
      "mse of sample_b: 12.969931005767588\n",
      "forward-backward of sample_b:\n",
      "phi_FB_hat of sample_b: [ 0.37741741 -0.19926382]\n",
      "mse of sample_b: 13.051713829689712 \n",
      "\n"
     ]
    }
   ],
   "source": [
    "letters = ['a', 'b']\n",
    "\n",
    "for l in letters:\n",
    "\n",
    "    observations = np.loadtxt(f'sample_{l}.txt')\n",
    "    mean_observations = np.mean(observations)\n",
    "    print(f\"mean of sample_{l}: {mean_observations}\")\n",
    "    observations -= mean_observations\n",
    "    n = len(observations)\n",
    "\n",
    "    p = 2\n",
    "    # forward\n",
    "    print(f\"forward of sample_{l}:\")\n",
    "    F = np.zeros((n- p, p))\n",
    "    X_F = observations[p:n]\n",
    "\n",
    "    F[:,0] = observations[p-1:n-1]\n",
    "    F[:,1] = observations[:n-p]\n",
    "    # more numerically stable than inversing\n",
    "    phi_hat_F = np.linalg.solve(F.T.dot(F), F.T.dot(X_F))\n",
    "    print(f\"phi_hat_F of sample_{l}: {phi_hat_F}\")\n",
    "    X_F_hat = F.dot(phi_hat_F)\n",
    "    mse_F = np.mean(np.square(X_F - X_F_hat))\n",
    "    print(f\"mse of sample_{l}: {mse_F}\")\n",
    "\n",
    "\n",
    "    # backward\n",
    "    print(f\"backward of sample_{l}:\")\n",
    "    B = np.zeros((n- p, p))\n",
    "    X_B = observations[:n-p]\n",
    "    B[:,0] = observations[1:n-p+1]\n",
    "    B[:,1] = observations[2:]\n",
    "\n",
    "    phi_hat_F = np.linalg.solve(B.T.dot(B), B.T.dot(X_B))\n",
    "    print(f\"phi_hat_B of sample_{l}: {phi_hat_F}\")\n",
    "    X_B_hat = B.dot(phi_hat_F)\n",
    "    mse_B = np.mean(np.square(X_B - X_B_hat))\n",
    "    print(f\"mse of sample_{l}: {mse_B}\")\n",
    "\n",
    "    #forward-backward\n",
    "    print(f\"forward-backward of sample_{l}:\")\n",
    "    phi_FB_hat = np.linalg.solve(B.T.dot(B) + F.T.dot(F), B.T.dot(X_B) + F.T.dot(X_F))\n",
    "    print(f\"phi_FB_hat of sample_{l}: {phi_FB_hat}\")\n",
    "    X_FB__F_hat = F.dot(phi_FB_hat)\n",
    "    X_FB__B_hat = B.dot(phi_FB_hat)\n",
    "    mse_FB = np.mean(np.square(X_F - X_FB__F_hat))/2 + np.mean(np.square(X_B - X_FB__B_hat))/2\n",
    "    print(f\"mse of sample_{l}: {mse_FB} \\n\")\n",
    "\n",
    "\n",
    "    \"\"\"\n",
    "    ts = np.arange(n)\n",
    "    plt.plot(ts, observations, label='observations')\n",
    "    plt.plot(ts[p:n], X_F_hat, label='forward', linestyle='--')\n",
    "    plt.plot(ts[:n-p], X_B_hat, label='backward', linestyle='--')\n",
    "    plt.xlabel('t')\n",
    "    plt.legend(loc='upper right')\n",
    "    plt.title(f\"sample_{l} observations\")\n",
    "    plt.show()\n",
    "    \"\"\"\n",
    "    "
   ]
  }
 ],
 "metadata": {
  "kernelspec": {
   "display_name": "Python 3",
   "language": "python",
   "name": "python3"
  },
  "language_info": {
   "codemirror_mode": {
    "name": "ipython",
    "version": 3
   },
   "file_extension": ".py",
   "mimetype": "text/x-python",
   "name": "python",
   "nbconvert_exporter": "python",
   "pygments_lexer": "ipython3",
   "version": "3.10.11"
  }
 },
 "nbformat": 4,
 "nbformat_minor": 2
}
